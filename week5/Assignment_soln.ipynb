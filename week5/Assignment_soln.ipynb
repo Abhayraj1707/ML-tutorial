{
 "cells": [
  {
   "cell_type": "markdown",
   "metadata": {
    "colab_type": "text",
    "id": "iHagJG6Wul4Y"
   },
   "source": [
    "This assignment serves three purposes:\n",
    "\n",
    "--> Introducing you to RandomForestClassifier\n",
    "--> Trying to implement Dense CNN model using the skills you gained till now\n",
    "\n",
    "This assingemnt might not contain a line to line explaination of the task to be performed. You got to start visiting the documentations or any example online to help you out with queries like syntax and parameters.\n",
    "\n",
    "The third and the most crucial purpose of all is helping you understand how to implement different models for the same task.\n",
    "Here, we have given you the task of hand-written digit classification on MNIST dataset, first using RandomForestClassifier and second using Dense CNN and if you wish, you could also try to implement this task from the model of previous assingment with of-course a little bit of tweaking. "
   ]
  },
  {
   "cell_type": "code",
   "execution_count": 23,
   "metadata": {
    "colab": {},
    "colab_type": "code",
    "id": "YuKiwK3Dn9Bq"
   },
   "outputs": [],
   "source": [
    "import pandas as pd\n",
    "import numpy as np\n",
    "import tensorflow as tf"
   ]
  },
  {
   "cell_type": "code",
   "execution_count": 24,
   "metadata": {},
   "outputs": [],
   "source": [
    "import matplotlib.pyplot as plt "
   ]
  },
  {
   "cell_type": "code",
   "execution_count": 25,
   "metadata": {
    "colab": {},
    "colab_type": "code",
    "id": "VKLusGinn9Bv",
    "outputId": "5cccbc1a-addc-415c-993e-7f4cfcb8628d"
   },
   "outputs": [],
   "source": [
    "from scipy.io import loadmat\n",
    "# set path of dataset to mnist_path varaible and loadmat() it to mnist_raw\n",
    "mnist_path = \"mnistdata/mnist.mat\"\n",
    "mnist_raw = loadmat(mnist_path)\n",
    "\n",
    "\n",
    "mnist ={ \"data\":mnist_raw[\"data\"].T,\"target\":mnist_raw[\"label\"][0],\n",
    "         \"COL_NAMES\":[\"label\",\"data\"],\"DESCR\": \"mldata.org dataset:mnist-original\",\n",
    "       }"
   ]
  },
  {
   "cell_type": "code",
   "execution_count": 26,
   "metadata": {
    "colab": {},
    "colab_type": "code",
    "id": "jk-UYMUzn9B1"
   },
   "outputs": [
    {
     "name": "stdout",
     "output_type": "stream",
     "text": [
      "Shape of X:(70000, 784)\n",
      "Shape of Y:(70000,)\n"
     ]
    }
   ],
   "source": [
    "X = mnist[\"data\"]\n",
    "Y = mnist[\"target\"]\n",
    "\n",
    "print(\"Shape of X:\"+str(X.shape))\n",
    "print(\"Shape of Y:\"+str(Y.shape))"
   ]
  },
  {
   "cell_type": "code",
   "execution_count": 27,
   "metadata": {
    "colab": {},
    "colab_type": "code",
    "id": "Ch8difi7n9B5"
   },
   "outputs": [
    {
     "data": {
      "text/plain": [
       "<matplotlib.image.AxesImage at 0x15f0057b2c8>"
      ]
     },
     "execution_count": 27,
     "metadata": {},
     "output_type": "execute_result"
    },
    {
     "data": {
      "image/png": "[encoded data removed]",
      "text/plain": [
       "<Figure size 432x288 with 1 Axes>"
      ]
     },
     "metadata": {
      "needs_background": "light"
     },
     "output_type": "display_data"
    }
   ],
   "source": [
    "plt.imshow(mnist[\"data\"][16].reshape(28,28), cmap='Greys', interpolation='None')\n"
   ]
  },
  {
   "cell_type": "code",
   "execution_count": 28,
   "metadata": {
    "colab": {},
    "colab_type": "code",
    "id": "_rL9RDX-n9CB"
   },
   "outputs": [],
   "source": [
    "# To randomize out data set we have to shuffle it\n",
    "#np.random.permutation() gives us an np.array of numbers in range given range\n",
    "#  reshuffle X and y\n",
    "np.random.seed(42)\n",
    "random_index = np.random.permutation(len(X)) \n",
    "X = X[random_index]/255.0\n",
    "Y = Y[random_index]\n",
    "\n",
    "x_train, x_test = X[:60000], X[60000:]\n",
    "y_train, y_test = Y[:60000], Y[60000:]"
   ]
  },
  {
   "cell_type": "code",
   "execution_count": 29,
   "metadata": {
    "colab": {},
    "colab_type": "code",
    "id": "36J2MsdEn9CI",
    "outputId": "0129c70f-37cd-42e1-c08b-fdf22bee4fe3"
   },
   "outputs": [
    {
     "data": {
      "text/plain": [
       "RandomForestClassifier(bootstrap=True, ccp_alpha=0.0, class_weight=None,\n",
       "                       criterion='gini', max_depth=None, max_features='auto',\n",
       "                       max_leaf_nodes=None, max_samples=None,\n",
       "                       min_impurity_decrease=0.0, min_impurity_split=None,\n",
       "                       min_samples_leaf=1, min_samples_split=2,\n",
       "                       min_weight_fraction_leaf=0.0, n_estimators=100,\n",
       "                       n_jobs=None, oob_score=False, random_state=42, verbose=0,\n",
       "                       warm_start=False)"
      ]
     },
     "execution_count": 29,
     "metadata": {},
     "output_type": "execute_result"
    }
   ],
   "source": [
    "from sklearn.metrics import accuracy_score\n",
    "from sklearn.ensemble import RandomForestClassifier\n",
    "from sklearn.metrics import mean_absolute_error\n",
    "\n",
    "#create a rondom forest classifier with random state of 42 and fit your train varaibles \n",
    "model1 = RandomForestClassifier(random_state=42)\n",
    "model1.fit(x_train, y_train)"
   ]
  },
  {
   "cell_type": "code",
   "execution_count": 30,
   "metadata": {},
   "outputs": [
    {
     "data": {
      "text/plain": [
       "0.0"
      ]
     },
     "execution_count": 30,
     "metadata": {},
     "output_type": "execute_result"
    }
   ],
   "source": [
    "y_predicted_train = model1.predict(x_train)\n",
    "mean_absolute_error(y_train, y_predicted_train)"
   ]
  },
  {
   "cell_type": "code",
   "execution_count": 31,
   "metadata": {},
   "outputs": [
    {
     "data": {
      "text/plain": [
       "0.1152"
      ]
     },
     "execution_count": 31,
     "metadata": {},
     "output_type": "execute_result"
    }
   ],
   "source": [
    "y_predicted_test = model1.predict(x_test)\n",
    "mean_absolute_error(y_test, y_predicted_test)"
   ]
  },
  {
   "cell_type": "code",
   "execution_count": 32,
   "metadata": {},
   "outputs": [
    {
     "data": {
      "text/plain": [
       "0.9698"
      ]
     },
     "execution_count": 32,
     "metadata": {},
     "output_type": "execute_result"
    }
   ],
   "source": [
    "accuracy_score(y_test, y_predicted_test)"
   ]
  },
  {
   "cell_type": "code",
   "execution_count": 11,
   "metadata": {
    "colab": {},
    "colab_type": "code",
    "id": "TSq2hH6Vn9CW"
   },
   "outputs": [],
   "source": [
    "# Now that RandonForest has been explored, we'll be implementing Dense CNN model"
   ]
  },
  {
   "cell_type": "code",
   "execution_count": 12,
   "metadata": {
    "colab": {},
    "colab_type": "code",
    "id": "ehWGQ6VNn9Cb"
   },
   "outputs": [
    {
     "name": "stderr",
     "output_type": "stream",
     "text": [
      "Using TensorFlow backend.\n"
     ]
    }
   ],
   "source": [
    "from keras.models import Sequential\n",
    "from keras.layers import Dense,Dropout,BatchNormalization, Conv2D, MaxPooling2D, Flatten\n",
    "from keras.losses import categorical_crossentropy\n",
    "from keras.optimizers import SGD, Adadelta\n",
    "from keras.utils import to_categorical\n",
    "# keras initializer\n"
   ]
  },
  {
   "cell_type": "code",
   "execution_count": 13,
   "metadata": {},
   "outputs": [],
   "source": [
    "batch_size = 128\n",
    "num_classes = 10\n",
    "epochs = 12"
   ]
  },
  {
   "cell_type": "code",
   "execution_count": 14,
   "metadata": {},
   "outputs": [],
   "source": [
    "x_train = x_train.reshape(len(x_train), 28,28,1)\n",
    "x_test = x_test.reshape(len(x_test), 28,28,1)"
   ]
  },
  {
   "cell_type": "code",
   "execution_count": 15,
   "metadata": {},
   "outputs": [
    {
     "name": "stdout",
     "output_type": "stream",
     "text": [
      "(10000, 28, 28, 1) (60000, 28, 28, 1)\n",
      "(10000,) (60000,)\n"
     ]
    }
   ],
   "source": [
    "print(x_test.shape, x_train.shape)\n",
    "print(y_test.shape, y_train.shape)"
   ]
  },
  {
   "cell_type": "code",
   "execution_count": 16,
   "metadata": {
    "colab": {},
    "colab_type": "code",
    "id": "r0P5nGgan9Cg"
   },
   "outputs": [],
   "source": [
    "# model\n",
    "input_shape = (28,28,1)\n",
    "model = Sequential()\n",
    "model.add(Conv2D(6, kernel_size=(5, 5), strides=(1, 1), padding = \"valid\", activation='relu', input_shape=input_shape))\n",
    "model.add(MaxPooling2D(pool_size=(2, 2), strides=(1, 1)))\n",
    "model.add(Conv2D(16, (5, 5), activation='relu'))\n",
    "model.add(MaxPooling2D(pool_size=(2, 2)))\n",
    "model.add(Flatten())\n",
    "model.add(Dense(1000, activation='relu'))\n",
    "model.add(Dense(10, activation='softmax'))"
   ]
  },
  {
   "cell_type": "code",
   "execution_count": 17,
   "metadata": {
    "colab": {},
    "colab_type": "code",
    "id": "6zsw6k7kn9Cj"
   },
   "outputs": [],
   "source": [
    "model.compile(loss=categorical_crossentropy, optimizer=Adadelta(), metrics=['accuracy'])"
   ]
  },
  {
   "cell_type": "code",
   "execution_count": 18,
   "metadata": {},
   "outputs": [],
   "source": [
    "y_train = to_categorical(y_train, 10)\n",
    "y_test = to_categorical(y_test, 10)"
   ]
  },
  {
   "cell_type": "code",
   "execution_count": 19,
   "metadata": {
    "colab": {},
    "colab_type": "code",
    "id": "ZsNYrB4En9Cm"
   },
   "outputs": [
    {
     "name": "stdout",
     "output_type": "stream",
     "text": [
      "Train on 60000 samples, validate on 10000 samples\n",
      "Epoch 1/12\n",
      "60000/60000 [==============================] - 39s 656us/step - loss: 0.1765 - accuracy: 0.9461 - val_loss: 0.0598 - val_accuracy: 0.9804\n",
      "Epoch 2/12\n",
      "60000/60000 [==============================] - 40s 669us/step - loss: 0.0479 - accuracy: 0.9851 - val_loss: 0.0433 - val_accuracy: 0.9863\n",
      "Epoch 3/12\n",
      "60000/60000 [==============================] - 43s 710us/step - loss: 0.0319 - accuracy: 0.9899 - val_loss: 0.0414 - val_accuracy: 0.9878\n",
      "Epoch 4/12\n",
      "60000/60000 [==============================] - 45s 757us/step - loss: 0.0233 - accuracy: 0.9929 - val_loss: 0.0376 - val_accuracy: 0.9887\n",
      "Epoch 5/12\n",
      "60000/60000 [==============================] - 43s 719us/step - loss: 0.0176 - accuracy: 0.9947 - val_loss: 0.0334 - val_accuracy: 0.9901\n",
      "Epoch 6/12\n",
      "60000/60000 [==============================] - 41s 678us/step - loss: 0.0129 - accuracy: 0.9960 - val_loss: 0.0404 - val_accuracy: 0.9900\n",
      "Epoch 7/12\n",
      "60000/60000 [==============================] - 40s 662us/step - loss: 0.0099 - accuracy: 0.9972 - val_loss: 0.0379 - val_accuracy: 0.9901\n",
      "Epoch 8/12\n",
      "60000/60000 [==============================] - 39s 648us/step - loss: 0.0074 - accuracy: 0.9979 - val_loss: 0.0353 - val_accuracy: 0.9914\n",
      "Epoch 9/12\n",
      "60000/60000 [==============================] - 41s 686us/step - loss: 0.0053 - accuracy: 0.9986 - val_loss: 0.0371 - val_accuracy: 0.9909\n",
      "Epoch 10/12\n",
      "60000/60000 [==============================] - 43s 711us/step - loss: 0.0044 - accuracy: 0.9987 - val_loss: 0.0387 - val_accuracy: 0.9914\n",
      "Epoch 11/12\n",
      "60000/60000 [==============================] - 42s 693us/step - loss: 0.0036 - accuracy: 0.9990 - val_loss: 0.0371 - val_accuracy: 0.9913\n",
      "Epoch 12/12\n",
      "60000/60000 [==============================] - 45s 753us/step - loss: 0.0026 - accuracy: 0.9994 - val_loss: 0.0383 - val_accuracy: 0.9918\n"
     ]
    },
    {
     "data": {
      "text/plain": [
       "<keras.callbacks.callbacks.History at 0x15f00c25dc8>"
      ]
     },
     "execution_count": 19,
     "metadata": {},
     "output_type": "execute_result"
    }
   ],
   "source": [
    "model.fit(x_train, y_train,\n",
    "          batch_size=batch_size,\n",
    "          epochs=epochs,\n",
    "          verbose=1,\n",
    "          validation_data=(x_test, y_test))"
   ]
  },
  {
   "cell_type": "code",
   "execution_count": 20,
   "metadata": {},
   "outputs": [
    {
     "data": {
      "text/plain": [
       "(60000, 28, 28, 1)"
      ]
     },
     "execution_count": 20,
     "metadata": {},
     "output_type": "execute_result"
    }
   ],
   "source": [
    "x_train.shape"
   ]
  },
  {
   "cell_type": "code",
   "execution_count": 21,
   "metadata": {
    "colab": {},
    "colab_type": "code",
    "id": "3iZnY1S8n9Cq"
   },
   "outputs": [
    {
     "name": "stdout",
     "output_type": "stream",
     "text": [
      "Test loss: 0.03834672158277381\n",
      "Test accuracy: 0.9918000102043152\n"
     ]
    }
   ],
   "source": [
    "# After fitting try your model with test dataset\n",
    "# see the accuracy\n",
    "score = model.evaluate(x_test, y_test, verbose=0)\n",
    "print('Test loss:', score[0])\n",
    "print('Test accuracy:', score[1])"
   ]
  },
  {
   "cell_type": "code",
   "execution_count": 22,
   "metadata": {
    "colab": {},
    "colab_type": "code",
    "id": "Src3IB64n9C0"
   },
   "outputs": [],
   "source": [
    "# Understand how and where to use which model and jot down your observations in a text file in the github repository."
   ]
  }
 ],
 "metadata": {
  "colab": {
   "collapsed_sections": [],
   "name": "Assignment_model.ipynb",
   "provenance": []
  },
  "kernelspec": {
   "display_name": "Python 3",
   "language": "python",
   "name": "python3"
  },
  "language_info": {
   "codemirror_mode": {
    "name": "ipython",
    "version": 3
   },
   "file_extension": ".py",
   "mimetype": "text/x-python",
   "name": "python",
   "nbconvert_exporter": "python",
   "pygments_lexer": "ipython3",
   "version": "3.7.5"
  }
 },
 "nbformat": 4,
 "nbformat_minor": 1
}
