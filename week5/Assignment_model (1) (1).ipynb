{
 "cells": [
  {
   "cell_type": "markdown",
   "metadata": {
    "colab_type": "text",
    "id": "iHagJG6Wul4Y"
   },
   "source": [
    "This assignment serves three purposes:\n",
    "\n",
    "--> Introducing you to RandomForestClassifier\n",
    "--> Trying to implement Dense CNN model using the skills you gained till now\n",
    "\n",
    "This assingemnt might not contain a line to line explaination of the task to be performed. You got to start visiting the documentations or any example online to help you out with queries like syntax and parameters.\n",
    "\n",
    "The third and the most crucial purpose of all is helping you understand how to implement different models for the same task.\n",
    "Here, we have given you the task of hand-written digit classification on MNIST dataset, first using RandomForestClassifier and second using Dense CNN and if you wish, you could also try to implement this task from the model of previous assingment with of-course a little bit of tweaking. "
   ]
  },
  {
   "cell_type": "code",
   "execution_count": 2,
   "metadata": {
    "colab": {},
    "colab_type": "code",
    "id": "YuKiwK3Dn9Bq"
   },
   "outputs": [],
   "source": [
    "#import pandas as pd\n",
    "#import numpy as np\n",
    "#import tensorflow as tf"
   ]
  },
  {
   "cell_type": "code",
   "execution_count": 3,
   "metadata": {
    "colab": {},
    "colab_type": "code",
    "id": "VKLusGinn9Bv",
    "outputId": "5cccbc1a-addc-415c-993e-7f4cfcb8628d"
   },
   "outputs": [
    {
     "ename": "NameError",
     "evalue": "name 'mnist_raw' is not defined",
     "output_type": "error",
     "traceback": [
      "\u001b[1;31m---------------------------------------------------------------------------\u001b[0m",
      "\u001b[1;31mNameError\u001b[0m                                 Traceback (most recent call last)",
      "\u001b[1;32m<ipython-input-3-84a8cc35e64d>\u001b[0m in \u001b[0;36m<module>\u001b[1;34m\u001b[0m\n\u001b[0;32m      4\u001b[0m \u001b[1;33m\u001b[0m\u001b[0m\n\u001b[0;32m      5\u001b[0m \u001b[1;33m\u001b[0m\u001b[0m\n\u001b[1;32m----> 6\u001b[1;33m mnist ={ \"data\":mnist_raw[\"data\"].T,\"target\":mnist_raw[\"label\"][0],\n\u001b[0m\u001b[0;32m      7\u001b[0m          \u001b[1;34m\"COL_NAMES\"\u001b[0m\u001b[1;33m:\u001b[0m\u001b[1;33m[\u001b[0m\u001b[1;34m\"label\"\u001b[0m\u001b[1;33m,\u001b[0m\u001b[1;34m\"data\"\u001b[0m\u001b[1;33m]\u001b[0m\u001b[1;33m,\u001b[0m\u001b[1;34m\"DESCR\"\u001b[0m\u001b[1;33m:\u001b[0m \u001b[1;34m\"mldata.org dataset:mnist-original\"\u001b[0m\u001b[1;33m,\u001b[0m\u001b[1;33m\u001b[0m\u001b[1;33m\u001b[0m\u001b[0m\n\u001b[0;32m      8\u001b[0m        }\n",
      "\u001b[1;31mNameError\u001b[0m: name 'mnist_raw' is not defined"
     ]
    }
   ],
   "source": [
    "from scipy.io import loadmat\n",
    "# set path of dataset to mnist_path varaible and loadmat() it to mnist_raw\n",
    "\n",
    "\n",
    "\n",
    "mnist ={ \"data\":mnist_raw[\"data\"].T,\"target\":mnist_raw[\"label\"][0],\n",
    "         \"COL_NAMES\":[\"label\",\"data\"],\"DESCR\": \"mldata.org dataset:mnist-original\",\n",
    "       }"
   ]
  },
  {
   "cell_type": "code",
   "execution_count": null,
   "metadata": {
    "colab": {},
    "colab_type": "code",
    "id": "jk-UYMUzn9B1"
   },
   "outputs": [],
   "source": [
    "# store data in X and target in y\n",
    "\n",
    "\n",
    "\n",
    "#Our data is expected to has 70000 instances(rows) and 784 features(columns)\n",
    "\n",
    "#print(\"Shape of X:\"+str(X.shape))\n",
    "#print(\"Shape of Y:\"+str(y.shape))"
   ]
  },
  {
   "cell_type": "code",
   "execution_count": null,
   "metadata": {
    "colab": {},
    "colab_type": "code",
    "id": "Ch8difi7n9B5"
   },
   "outputs": [],
   "source": [
    "# import matplotlib \n",
    "\n"
   ]
  },
  {
   "cell_type": "code",
   "execution_count": null,
   "metadata": {
    "colab": {},
    "colab_type": "code",
    "id": "SHTW7MPan9B9",
    "outputId": "973e9553-306c-42c3-c3a9-60ce59477c82"
   },
   "outputs": [],
   "source": [
    "# pick any example from z, rehshape it to 28x28 type and display it using matplot\n",
    "\n",
    "\n"
   ]
  },
  {
   "cell_type": "code",
   "execution_count": null,
   "metadata": {
    "colab": {},
    "colab_type": "code",
    "id": "_rL9RDX-n9CB"
   },
   "outputs": [],
   "source": [
    "# To randomize out data set we have to shuffle it\n",
    "#np.random.permutation() gives us an np.array of numbers in range given range\n",
    "#  reshuffle X and y\n",
    "\n",
    "\n"
   ]
  },
  {
   "cell_type": "code",
   "execution_count": null,
   "metadata": {
    "colab": {},
    "colab_type": "code",
    "id": "SFG3ztPkn9CE"
   },
   "outputs": [],
   "source": [
    "# we are dividing the data in 60,000 and 10,000 for training and testing\n",
    "\n"
   ]
  },
  {
   "cell_type": "code",
   "execution_count": null,
   "metadata": {
    "colab": {},
    "colab_type": "code",
    "id": "36J2MsdEn9CI",
    "outputId": "0129c70f-37cd-42e1-c08b-fdf22bee4fe3"
   },
   "outputs": [],
   "source": [
    "\n",
    "from sklearn.ensemble import RandomForestClassifier\n",
    "from sklearn.metrics import mean_absolute_error\n",
    "\n",
    "#create a rondom forest classifier with random state of 42 and fit your train varaibles \n",
    "\n",
    "\n",
    "\n"
   ]
  },
  {
   "cell_type": "code",
   "execution_count": null,
   "metadata": {
    "colab": {},
    "colab_type": "code",
    "id": "fw8rI-Bvn9CL"
   },
   "outputs": [],
   "source": [
    "# predict your train X varariable and find mean_absolute error it should be around 0.00333\n",
    "# repeat the same for test X it should be around 0.205\n"
   ]
  },
  {
   "cell_type": "code",
   "execution_count": null,
   "metadata": {
    "colab": {},
    "colab_type": "code",
    "id": "rFgNqrkqn9CO",
    "outputId": "baef9cd0-bcd9-4bcd-8423-3aa7d322c8c4"
   },
   "outputs": [],
   "source": []
  },
  {
   "cell_type": "code",
   "execution_count": null,
   "metadata": {
    "colab": {},
    "colab_type": "code",
    "id": "dbRSns41n9CR",
    "outputId": "ed2045eb-f0ff-4a84-846a-8d77c3ef4212"
   },
   "outputs": [],
   "source": []
  },
  {
   "cell_type": "code",
   "execution_count": null,
   "metadata": {
    "colab": {},
    "colab_type": "code",
    "id": "TSq2hH6Vn9CW"
   },
   "outputs": [],
   "source": [
    "# Now that RandonForest has been explored, we'll be implementing Dense CNN model"
   ]
  },
  {
   "cell_type": "code",
   "execution_count": null,
   "metadata": {
    "colab": {},
    "colab_type": "code",
    "id": "ehWGQ6VNn9Cb"
   },
   "outputs": [],
   "source": [
    "# First order of business is creating the model\n",
    "# for that purpose we've already imported the required things \n",
    "# your task is to use the above imported modules and whatever skills you have harnessed and build a model from scratch\n",
    "# JUST A REMINDER , WE TRIED TO INTRODUCE YOU ALL WITH MOST OF THE LIBRARIES WHICH WE USE ON A DAILY BASIS\n",
    "# ONE OF THEM IS KERAS USING WHICH YOU'LL IMPLEMENT THIS LAST ASSINGMENT \n",
    "# BUT DON'T WORRY THAT ITS NEW. THE CONCEPTS WHICH YOU ALL HAVE GAINED UPTIL NOW WILL ONLY BE USED \n",
    "# DON'T PANIC THAT YOU DON'T KNOW KERAS\n",
    "# JUST GIVE IT A TRY. CREATING A MODEL IS SIMILAR TO THAT IN PYTORCH.\n",
    "\n",
    "from tensorflow.keras.models import Sequential\n",
    "from tensorflow.keras.layers import Dense,Dropout,BatchNormalization\n",
    "\n",
    "# keras initializer\n"
   ]
  },
  {
   "cell_type": "code",
   "execution_count": null,
   "metadata": {
    "colab": {},
    "colab_type": "code",
    "id": "r0P5nGgan9Cg"
   },
   "outputs": [],
   "source": [
    "# model\n"
   ]
  },
  {
   "cell_type": "code",
   "execution_count": null,
   "metadata": {
    "colab": {},
    "colab_type": "code",
    "id": "6zsw6k7kn9Cj"
   },
   "outputs": [],
   "source": [
    "# after creating the model compile it with proper optimizer and loss function \n",
    "# You can refer to any keras model training for your reference \n",
    "\n"
   ]
  },
  {
   "cell_type": "code",
   "execution_count": null,
   "metadata": {
    "colab": {},
    "colab_type": "code",
    "id": "ZsNYrB4En9Cm"
   },
   "outputs": [],
   "source": [
    "# Fit your train datasets\n"
   ]
  },
  {
   "cell_type": "code",
   "execution_count": null,
   "metadata": {
    "colab": {},
    "colab_type": "code",
    "id": "3iZnY1S8n9Cq"
   },
   "outputs": [],
   "source": [
    "# After fitting try your model with test dataset\n",
    "# see the accuracy\n"
   ]
  },
  {
   "cell_type": "code",
   "execution_count": null,
   "metadata": {
    "colab": {},
    "colab_type": "code",
    "id": "Src3IB64n9C0"
   },
   "outputs": [],
   "source": [
    "# Understand how and where to use which model and jot down your observations in a text file in the github repository."
   ]
  }
 ],
 "metadata": {
  "colab": {
   "collapsed_sections": [],
   "name": "Assignment_model.ipynb",
   "provenance": []
  },
  "kernelspec": {
   "display_name": "Python 3",
   "language": "python",
   "name": "python3"
  },
  "language_info": {
   "codemirror_mode": {
    "name": "ipython",
    "version": 3
   },
   "file_extension": ".py",
   "mimetype": "text/x-python",
   "name": "python",
   "nbconvert_exporter": "python",
   "pygments_lexer": "ipython3",
   "version": "3.7.3"
  }
 },
 "nbformat": 4,
 "nbformat_minor": 1
}
