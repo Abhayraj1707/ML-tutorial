{
 "cells": [
  {
   "cell_type": "code",
   "execution_count": 2,
   "metadata": {},
   "outputs": [],
   "source": [
    "# import Numpy and Pandas\n",
    "\n",
    "\n",
    "# for reading and displaying images, import imread and matplotlib\n",
    "\n",
    "\n",
    "# for creating validation set, import train_test_split; understand how the function works\n",
    "\n",
    "# for evaluating the model, import accuracy_score from sklearn\n",
    "\n",
    "# Import necessary PyTorch libraries and modules\n",
    "\n",
    "# Import dataset from pytorch vision - Fashion MNIST\n"
   ]
  },
  {
   "cell_type": "code",
   "execution_count": null,
   "metadata": {},
   "outputs": [],
   "source": [
    "# load dataset and use dataloader to send the data in batches.\n",
    "# Convert data to tensor and normalise it."
   ]
  },
  {
   "cell_type": "code",
   "execution_count": null,
   "metadata": {},
   "outputs": [],
   "source": [
    "# Visualise some random images from the datset. Check the shape of tensors to get a better understanding of the dataset."
   ]
  },
  {
   "cell_type": "code",
   "execution_count": null,
   "metadata": {},
   "outputs": [],
   "source": [
    "# Define the network architecture(model) using a class.\n",
    "# Use conv2d layers, activation function after each such layer, use Batchnorm and Maxpooling. Play with these parameters,\n",
    "# layers and things like kernel size, stride etc and see how it affects your results.\n",
    "# Finally use a linear layer in the end\n",
    "# Define the forward pass"
   ]
  },
  {
   "cell_type": "code",
   "execution_count": null,
   "metadata": {},
   "outputs": [],
   "source": [
    "# Define training the model\n",
    "    # defining the optimizer\n",
    "    # defining the loss function\n",
    "    # For each epoch and in each batch:\n",
    "        # clear the gradients\n",
    "        # compute the model output\n",
    "        # calculate loss; store and print them if you wish to print and see if the loss is decreasing.\n",
    "        # propagate loss backwards\n",
    "        # update model weights\n",
    "        "
   ]
  },
  {
   "cell_type": "code",
   "execution_count": null,
   "metadata": {},
   "outputs": [],
   "source": [
    "     \n",
    "# Evaluate model on test set. This is done in the same way as for training but only till calculating output.\n",
    "# Then,convert output from tensor to numpy format.\n",
    "# convert to class labels\n",
    "# store the predictions\n",
    "# calculate accuracy of model\n",
    "# Try to improve accuracy by changing parameters, optimizer, loss functions, epochs etc\n",
    "# and explain your observations in a text file in the Github repository."
   ]
  },
  {
   "cell_type": "markdown",
   "metadata": {},
   "source": [
    "  \n",
    "  Try to improve accuracy by changing parameters, optimizer, loss functions, epochs etc\n",
    "  and explain your observations in a text file in the Github repository.\n",
    "  "
   ]
  },
  {
   "cell_type": "code",
   "execution_count": 1,
   "metadata": {},
   "outputs": [],
   "source": [
    "# check predictions by printing the output image for random test inputs.\n",
    "\n",
    "        "
   ]
  },
  {
   "cell_type": "code",
   "execution_count": null,
   "metadata": {},
   "outputs": [],
   "source": []
  }
 ],
 "metadata": {
  "kernelspec": {
   "display_name": "Python 3",
   "language": "python",
   "name": "python3"
  },
  "language_info": {
   "codemirror_mode": {
    "name": "ipython",
    "version": 3
   },
   "file_extension": ".py",
   "mimetype": "text/x-python",
   "name": "python",
   "nbconvert_exporter": "python",
   "pygments_lexer": "ipython3",
   "version": "3.7.5"
  }
 },
 "nbformat": 4,
 "nbformat_minor": 2
}
