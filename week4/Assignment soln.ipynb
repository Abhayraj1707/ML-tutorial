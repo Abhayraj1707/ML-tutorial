{
 "cells": [
  {
   "cell_type": "code",
   "execution_count": 1,
   "metadata": {},
   "outputs": [],
   "source": [
    "import numpy as np\n",
    "import pandas as pd\n",
    "import matplotlib.pyplot as plt\n",
    "from matplotlib.pyplot import imread as imread"
   ]
  },
  {
   "cell_type": "code",
   "execution_count": 2,
   "metadata": {},
   "outputs": [],
   "source": [
    "import torch\n",
    "import torch.nn as nn\n",
    "import torch.nn.functional as F\n",
    "import torchvision\n",
    "import torchvision.transforms as transforms"
   ]
  },
  {
   "cell_type": "code",
   "execution_count": 3,
   "metadata": {},
   "outputs": [],
   "source": [
    "# Device configuration\n",
    "device = torch.device('cuda' if torch.cuda.is_available() else 'cpu')\n",
    "\n",
    "# Hyper-parameters \n",
    "num_epochs = 5\n",
    "batch_size = 4\n",
    "learning_rate = 0.001\n",
    "\n",
    "# dataset has PILImage images of range [0, 1]. \n",
    "# We transform them to Tensors of normalized range [-1, 1]\n",
    "transform = transforms.Compose([transforms.ToTensor(), transforms.Normalize((0.5), (0.5))])"
   ]
  },
  {
   "cell_type": "code",
   "execution_count": 4,
   "metadata": {},
   "outputs": [],
   "source": [
    "# MNIST dataset: 60000 28x28 color images in 10 classes, with 6000 images per class\n",
    "\n",
    "train_dataset = torchvision.datasets.FashionMNIST(root='./data', train=True, transform=transform, download=True)\n",
    "test_dataset = torchvision.datasets.FashionMNIST(root='./data', train=False, transform=transform, download=True)\n",
    "# print(\"train_dataset\", train_dataset)\n",
    "# print(\"test_dataset\", test_dataset)\n",
    "train_loader = torch.utils.data.DataLoader(train_dataset, batch_size=batch_size, shuffle=True)\n",
    "test_loader = torch.utils.data.DataLoader(test_dataset, batch_size=batch_size, shuffle=False)\n",
    "# print(\"train_loader\", iter(train_loader))\n",
    "# print(\"test_loader\", iter(test_loader))\n"
   ]
  },
  {
   "cell_type": "code",
   "execution_count": 5,
   "metadata": {},
   "outputs": [
    {
     "data": {
      "image/png": "[encoded data removed]",
      "text/plain": [
       "<Figure size 432x288 with 1 Axes>"
      ]
     },
     "metadata": {
      "needs_background": "light"
     },
     "output_type": "display_data"
    }
   ],
   "source": [
    "classes = ('T-shirt', 'Trouser', 'Pullover', 'Dress', 'Coat', 'Sandal', 'Shirt', 'Sneaker', 'Bag', 'Ankle boot')\n",
    "\n",
    "def imshow(img):\n",
    "#     print(\"Before un normalise\", img)\n",
    "    img = img / 2 + 0.5  # unnormalize\n",
    "    npimg = img.numpy()\n",
    "#     print(\"After un normalise\", npimg)\n",
    "    plt.imshow(np.transpose(npimg, (1, 2, 0)))\n",
    "    plt.show()\n",
    "\n",
    "\n",
    "# get some random training images\n",
    "dataiter = iter(train_loader)\n",
    "images, labels = dataiter.next()\n",
    "# print(\"images\\n\", images, \"and images shape\", images.shape)\n",
    "# print(\"labels\\n\", labels)\n",
    "# show images\n",
    "imshow(torchvision.utils.make_grid(images))"
   ]
  },
  {
   "cell_type": "code",
   "execution_count": 6,
   "metadata": {},
   "outputs": [],
   "source": [
    "class ConvNet(nn.Module):\n",
    "    def __init__(self):\n",
    "        super(ConvNet, self).__init__()\n",
    "        self.conv1 = nn.Conv2d(in_channels=1, out_channels=6, kernel_size=5, stride=1, padding=2)\n",
    "        self.pool = nn.MaxPool2d(2, 2)\n",
    "        self.conv2 = nn.Conv2d(6, 16, 5)\n",
    "        self.fc1 = nn.Linear(16 * 5 * 5, 120)\n",
    "        self.fc2 = nn.Linear(120, 84)\n",
    "        self.fc3 = nn.Linear(84, 10)\n",
    "\n",
    "    def forward(self, x):\n",
    "       # -> n, 1, 28+4, 28+4\n",
    "        x = self.pool(F.relu(self.conv1(x)))  # -> n, 6, 14, 14\n",
    "        x = self.pool(F.relu(self.conv2(x)))  # -> n, 16, 5, 5\n",
    "        x = x.view(-1, 16 * 5 * 5)            # -> n, 400\n",
    "        x = F.relu(self.fc1(x))               # -> n, 120\n",
    "        x = F.relu(self.fc2(x))               # -> n, 84\n",
    "        x = self.fc3(x)                       # -> n, 10\n",
    "        return x\n"
   ]
  },
  {
   "cell_type": "code",
   "execution_count": 7,
   "metadata": {},
   "outputs": [],
   "source": [
    "model = ConvNet().to(device)\n",
    "\n",
    "criterion = nn.CrossEntropyLoss()\n",
    "optimizer = torch.optim.SGD(model.parameters(), lr=learning_rate)"
   ]
  },
  {
   "cell_type": "code",
   "execution_count": 8,
   "metadata": {},
   "outputs": [
    {
     "name": "stdout",
     "output_type": "stream",
     "text": [
      "Epoch [1/5], Step [2000/15000], Loss: 2.2422\n",
      "Epoch [1/5], Step [4000/15000], Loss: 2.0153\n",
      "Epoch [1/5], Step [6000/15000], Loss: 1.1606\n",
      "Epoch [1/5], Step [8000/15000], Loss: 0.6184\n",
      "Epoch [1/5], Step [10000/15000], Loss: 0.3474\n",
      "Epoch [1/5], Step [12000/15000], Loss: 0.9112\n",
      "Epoch [1/5], Step [14000/15000], Loss: 0.2891\n",
      "Epoch [2/5], Step [2000/15000], Loss: 0.5183\n",
      "Epoch [2/5], Step [4000/15000], Loss: 0.3179\n",
      "Epoch [2/5], Step [6000/15000], Loss: 0.3015\n",
      "Epoch [2/5], Step [8000/15000], Loss: 0.5893\n",
      "Epoch [2/5], Step [10000/15000], Loss: 0.7359\n",
      "Epoch [2/5], Step [12000/15000], Loss: 0.9206\n",
      "Epoch [2/5], Step [14000/15000], Loss: 0.6760\n",
      "Epoch [3/5], Step [2000/15000], Loss: 0.3333\n",
      "Epoch [3/5], Step [4000/15000], Loss: 1.9394\n",
      "Epoch [3/5], Step [6000/15000], Loss: 0.4853\n",
      "Epoch [3/5], Step [8000/15000], Loss: 0.0378\n",
      "Epoch [3/5], Step [10000/15000], Loss: 0.4432\n",
      "Epoch [3/5], Step [12000/15000], Loss: 0.8099\n",
      "Epoch [3/5], Step [14000/15000], Loss: 0.8516\n",
      "Epoch [4/5], Step [2000/15000], Loss: 1.7303\n",
      "Epoch [4/5], Step [4000/15000], Loss: 0.2361\n",
      "Epoch [4/5], Step [6000/15000], Loss: 0.2037\n",
      "Epoch [4/5], Step [8000/15000], Loss: 0.1218\n",
      "Epoch [4/5], Step [10000/15000], Loss: 0.6075\n",
      "Epoch [4/5], Step [12000/15000], Loss: 0.1054\n",
      "Epoch [4/5], Step [14000/15000], Loss: 0.0431\n",
      "Epoch [5/5], Step [2000/15000], Loss: 0.0556\n",
      "Epoch [5/5], Step [4000/15000], Loss: 0.8044\n",
      "Epoch [5/5], Step [6000/15000], Loss: 0.1187\n",
      "Epoch [5/5], Step [8000/15000], Loss: 0.1764\n",
      "Epoch [5/5], Step [10000/15000], Loss: 0.1648\n",
      "Epoch [5/5], Step [12000/15000], Loss: 0.5489\n",
      "Epoch [5/5], Step [14000/15000], Loss: 0.0667\n",
      "Finished Training\n"
     ]
    }
   ],
   "source": [
    "criterion = nn.CrossEntropyLoss()\n",
    "optimizer = torch.optim.SGD(model.parameters(), lr=learning_rate)\n",
    "\n",
    "n_total_steps = len(train_loader)\n",
    "for epoch in range(num_epochs):\n",
    "    for i, (images, labels) in enumerate(train_loader):\n",
    "        # origin shape: [4, 1, 32, 32] = 4, 3, 1024\n",
    "        # input_layer: 1 input channels, 6 output channels, 5 kernel size\n",
    "        images = images.to(device)\n",
    "        labels = labels.to(device)\n",
    "\n",
    "        # Forward pass\n",
    "        outputs = model(images)\n",
    "        loss = criterion(outputs, labels)\n",
    "\n",
    "        # Backward and optimize\n",
    "        optimizer.zero_grad()\n",
    "        loss.backward()\n",
    "        optimizer.step()\n",
    "        \n",
    "        if (i+1) % 2000 == 0:\n",
    "            print (f'Epoch [{epoch+1}/{num_epochs}], Step [{i+1}/{n_total_steps}], Loss: {loss.item():.4f}')\n",
    "\n",
    "print('Finished Training')"
   ]
  },
  {
   "cell_type": "code",
   "execution_count": 9,
   "metadata": {},
   "outputs": [
    {
     "name": "stdout",
     "output_type": "stream",
     "text": [
      "Accuracy of the network: 86.08 %\n",
      "Accuracy of T-shirt: 83.8 %\n",
      "Accuracy of Trouser: 96.2 %\n",
      "Accuracy of Pullover: 81.8 %\n",
      "Accuracy of Dress: 92.2 %\n",
      "Accuracy of Coat: 71.1 %\n",
      "Accuracy of Sandal: 95.8 %\n",
      "Accuracy of Shirt: 56.5 %\n",
      "Accuracy of Sneaker: 95.2 %\n",
      "Accuracy of Bag: 93.8 %\n",
      "Accuracy of Ankle boot: 94.4 %\n"
     ]
    }
   ],
   "source": [
    "with torch.no_grad():\n",
    "    n_correct = 0\n",
    "    n_samples = 0\n",
    "    n_class_correct = [0 for i in range(10)]\n",
    "    n_class_samples = [0 for i in range(10)]\n",
    "    for images, labels in test_loader:\n",
    "        images = images.to(device)\n",
    "        labels = labels.to(device)\n",
    "        outputs = model(images)\n",
    "        # max returns (value ,index)\n",
    "        _, predicted = torch.max(outputs, 1)\n",
    "        n_samples += labels.size(0)\n",
    "        n_correct += (predicted == labels).sum().item()\n",
    "        \n",
    "        for i in range(batch_size):\n",
    "            label = labels[i]\n",
    "            pred = predicted[i]\n",
    "            if (label == pred):\n",
    "                n_class_correct[label] += 1\n",
    "            n_class_samples[label] += 1\n",
    "\n",
    "    acc = 100.0 * n_correct / n_samples\n",
    "    print(f'Accuracy of the network: {acc} %')\n",
    "\n",
    "    for i in range(10):\n",
    "        acc = 100.0 * n_class_correct[i] / n_class_samples[i]\n",
    "        print(f'Accuracy of {classes[i]}: {acc} %')"
   ]
  },
  {
   "cell_type": "code",
   "execution_count": 10,
   "metadata": {},
   "outputs": [],
   "source": [
    "PATH = './cnn1.pth'\n",
    "torch.save(model.state_dict(), PATH)"
   ]
  },
  {
   "cell_type": "code",
   "execution_count": 11,
   "metadata": {},
   "outputs": [
    {
     "name": "stderr",
     "output_type": "stream",
     "text": [
      "c:\\users\\abhishek pratap\\machine learning\\pytorch_test\\lib\\site-packages\\torch\\storage.py:34: FutureWarning: pickle support for Storage will be removed in 1.5. Use `torch.save` instead\n",
      "  warnings.warn(\"pickle support for Storage will be removed in 1.5. Use `torch.save` instead\", FutureWarning)\n"
     ]
    },
    {
     "data": {
      "text/plain": [
       "['check.joblib']"
      ]
     },
     "execution_count": 11,
     "metadata": {},
     "output_type": "execute_result"
    }
   ],
   "source": [
    "from joblib import dump, load\n",
    "dump(model, 'check.joblib') "
   ]
  }
 ],
 "metadata": {
  "kernelspec": {
   "display_name": "pytorch_test",
   "language": "python",
   "name": "pytorch_test"
  },
  "language_info": {
   "codemirror_mode": {
    "name": "ipython",
    "version": 3
   },
   "file_extension": ".py",
   "mimetype": "text/x-python",
   "name": "python",
   "nbconvert_exporter": "python",
   "pygments_lexer": "ipython3",
   "version": "3.7.5"
  }
 },
 "nbformat": 4,
 "nbformat_minor": 4
}
